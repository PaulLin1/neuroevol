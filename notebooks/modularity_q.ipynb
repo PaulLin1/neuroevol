{
 "cells": [
  {
   "cell_type": "code",
   "execution_count": 20,
   "id": "80c0d2bf-553e-4e63-a39f-527221eb2d07",
   "metadata": {},
   "outputs": [
    {
     "data": {
      "text/plain": [
       "<torch._C.Generator at 0x10c28a710>"
      ]
     },
     "execution_count": 20,
     "metadata": {},
     "output_type": "execute_result"
    }
   ],
   "source": [
    "import torch\n",
    "import torch.nn as nn\n",
    "import torch.nn.functional as F\n",
    "import numpy as np\n",
    "import pandas as pd\n",
    "from torch.utils.data import TensorDataset, DataLoader\n",
    "import random\n",
    "import math\n",
    "import time\n",
    "import sys\n",
    "import os\n",
    "\n",
    "sys.path.append(os.path.abspath(\"./neat\"))\n",
    "\n",
    "from nn import *\n",
    "from mutation import *\n",
    "from speciation import *\n",
    "\n",
    "random.seed(42)\n",
    "torch.manual_seed(42)"
   ]
  },
  {
   "cell_type": "code",
   "execution_count": 21,
   "id": "1f3a4018-bc85-4e28-a7e4-270ff02166d5",
   "metadata": {},
   "outputs": [],
   "source": [
    "# Init stuff\n",
    "\n",
    "# Hyperparameters\n",
    "input_dim = 8*8\n",
    "output_dim = 10\n",
    "\n",
    "device = torch.device(\"cuda\" if torch.cuda.is_available() else \"cpu\")\n",
    "\n",
    "# Load model\n",
    "model = torch.load(\"./models/sklearn_digits_100pop_2000epoch_real96.67.pth\", weights_only=False)\n",
    "# fnn_model = torch.load(\"./models/fnn97.29.pth\", weights_only=False)"
   ]
  },
  {
   "cell_type": "code",
   "execution_count": null,
   "id": "8abc19aa-55fd-46e0-af61-b1653b1bf04c",
   "metadata": {},
   "outputs": [],
   "source": []
  },
  {
   "cell_type": "code",
   "execution_count": 22,
   "id": "da2495e2-bb5e-4e92-b381-11591dd74df1",
   "metadata": {},
   "outputs": [],
   "source": [
    "import networkx as nx\n",
    "import matplotlib.pyplot as plt\n",
    "\n",
    "nodes = [i.id for i in model.nodes]\n",
    "edges = [(conn.in_node, conn.out_node) for conn in model.connections]"
   ]
  },
  {
   "cell_type": "code",
   "execution_count": 23,
   "id": "f7534b09-aa00-41c3-9737-bae16a53898d",
   "metadata": {},
   "outputs": [],
   "source": [
    "from networkx.algorithms.community import modularity"
   ]
  },
  {
   "cell_type": "code",
   "execution_count": 24,
   "id": "6e30464f-2c45-44fd-a9a7-97ae87db3bd7",
   "metadata": {},
   "outputs": [],
   "source": [
    "import networkx as nx\n",
    "\n",
    "G = nx.Graph()\n",
    "G.add_nodes_from(nodes)\n",
    "G.add_edges_from(edges)\n"
   ]
  },
  {
   "cell_type": "code",
   "execution_count": 26,
   "id": "64c16e35-4c36-42d8-8ea2-9656337c97ef",
   "metadata": {},
   "outputs": [
    {
     "name": "stdout",
     "output_type": "stream",
     "text": [
      "Modularity (Louvain): 0.1401\n"
     ]
    }
   ],
   "source": [
    "import community as community_louvain\n",
    "from collections import defaultdict\n",
    "\n",
    "# Detect best partition\n",
    "partition = community_louvain.best_partition(G)  # {node: community_id}\n",
    "\n",
    "# Convert to list of sets\n",
    "comm_map = defaultdict(set)\n",
    "for node, comm_id in partition.items():\n",
    "    comm_map[comm_id].add(node)\n",
    "communities = list(comm_map.values())\n",
    "\n",
    "# Now compute modularity\n",
    "from networkx.algorithms.community import modularity\n",
    "Q = modularity(G, communities)\n",
    "print(f\"Modularity (Louvain): {Q:.4f}\")\n"
   ]
  },
  {
   "cell_type": "code",
   "execution_count": 27,
   "id": "505ee61c-b52e-4ffb-a756-b24b97c52ed4",
   "metadata": {},
   "outputs": [],
   "source": [
    "def create_nn_graph(input_size=64, hidden_size=32, output_size=10):\n",
    "    nodes = []\n",
    "    edges = []\n",
    "\n",
    "    # Create node labels\n",
    "    input_nodes = [f\"I{i}\" for i in range(input_size)]\n",
    "    hidden_nodes = [f\"H{i}\" for i in range(hidden_size)]\n",
    "    output_nodes = [f\"O{i}\" for i in range(output_size)]\n",
    "\n",
    "    # Combine nodes\n",
    "    nodes.extend(input_nodes)\n",
    "    nodes.extend(hidden_nodes)\n",
    "    nodes.extend(output_nodes)\n",
    "\n",
    "    # Create edges: Fully connect input -> hidden\n",
    "    for i_node in input_nodes:\n",
    "        for h_node in hidden_nodes:\n",
    "            edges.append((i_node, h_node))\n",
    "\n",
    "    # Create edges: Fully connect hidden -> output\n",
    "    for h_node in hidden_nodes:\n",
    "        for o_node in output_nodes:\n",
    "            edges.append((h_node, o_node))\n",
    "\n",
    "    return nodes, edges\n",
    "\n",
    "# Example usage\n",
    "nodes, edges = create_nn_graph()"
   ]
  },
  {
   "cell_type": "code",
   "execution_count": null,
   "id": "19059757-92d4-4f7c-96f6-a2f900a8ecc6",
   "metadata": {},
   "outputs": [],
   "source": [
    "edges"
   ]
  },
  {
   "cell_type": "code",
   "execution_count": 28,
   "id": "1a40c3ef-b18f-47e1-87f7-731c12eb1f25",
   "metadata": {},
   "outputs": [],
   "source": [
    "import networkx as nx\n",
    "\n",
    "G = nx.Graph()\n",
    "G.add_nodes_from(nodes)\n",
    "G.add_edges_from(edges)\n"
   ]
  },
  {
   "cell_type": "code",
   "execution_count": 29,
   "id": "3b0dcacd-4bcb-422c-91fe-663bf47eeb45",
   "metadata": {},
   "outputs": [
    {
     "name": "stdout",
     "output_type": "stream",
     "text": [
      "Modularity (Louvain): 0.0000\n"
     ]
    }
   ],
   "source": [
    "import community as community_louvain\n",
    "from collections import defaultdict\n",
    "\n",
    "# Detect best partition\n",
    "partition = community_louvain.best_partition(G)  # {node: community_id}\n",
    "\n",
    "# Convert to list of sets\n",
    "comm_map = defaultdict(set)\n",
    "for node, comm_id in partition.items():\n",
    "    comm_map[comm_id].add(node)\n",
    "communities = list(comm_map.values())\n",
    "\n",
    "# Now compute modularity\n",
    "from networkx.algorithms.community import modularity\n",
    "Q = modularity(G, communities)\n",
    "print(f\"Modularity (Louvain): {Q:.4f}\")\n"
   ]
  },
  {
   "cell_type": "code",
   "execution_count": null,
   "id": "59966159-b64b-47ab-9057-03f00f9f3126",
   "metadata": {},
   "outputs": [],
   "source": []
  }
 ],
 "metadata": {
  "kernelspec": {
   "display_name": "neat",
   "language": "python",
   "name": "neat"
  },
  "language_info": {
   "codemirror_mode": {
    "name": "ipython",
    "version": 3
   },
   "file_extension": ".py",
   "mimetype": "text/x-python",
   "name": "python",
   "nbconvert_exporter": "python",
   "pygments_lexer": "ipython3",
   "version": "3.12.7"
  }
 },
 "nbformat": 4,
 "nbformat_minor": 5
}
